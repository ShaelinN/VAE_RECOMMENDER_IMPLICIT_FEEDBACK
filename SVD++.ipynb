{
  "nbformat": 4,
  "nbformat_minor": 0,
  "metadata": {
    "colab": {
      "name": "SVD++.ipynb",
      "provenance": [],
      "collapsed_sections": [
        "miTGLX9W-oFw",
        "9tLHoyPd0_SV",
        "VmucIS9O-0x-",
        "bk4jwpAlMyFg"
      ]
    },
    "kernelspec": {
      "display_name": "Python 3",
      "name": "python3"
    },
    "language_info": {
      "name": "python"
    }
  },
  "cells": [
    {
      "cell_type": "code",
      "metadata": {
        "id": "YsN6RC0pTkZk"
      },
      "source": [
        "from google.colab import drive\n",
        "drive.mount('/content/drive')"
      ],
      "execution_count": null,
      "outputs": []
    },
    {
      "cell_type": "markdown",
      "metadata": {
        "id": "mbz2xac3-guS"
      },
      "source": [
        "#Imports and Dirs"
      ]
    },
    {
      "cell_type": "code",
      "metadata": {
        "colab": {
          "base_uri": "https://localhost:8080/"
        },
        "id": "Q63x9isQqajO",
        "outputId": "4c20c6e5-60da-44d1-edf6-2ffc5d5d4366"
      },
      "source": [
        "!pip install surprise"
      ],
      "execution_count": null,
      "outputs": [
        {
          "output_type": "stream",
          "name": "stdout",
          "text": [
            "Requirement already satisfied: surprise in /usr/local/lib/python3.7/dist-packages (0.1)\n",
            "Requirement already satisfied: scikit-surprise in /usr/local/lib/python3.7/dist-packages (from surprise) (1.1.1)\n",
            "Requirement already satisfied: scipy>=1.0.0 in /usr/local/lib/python3.7/dist-packages (from scikit-surprise->surprise) (1.4.1)\n",
            "Requirement already satisfied: numpy>=1.11.2 in /usr/local/lib/python3.7/dist-packages (from scikit-surprise->surprise) (1.19.5)\n",
            "Requirement already satisfied: six>=1.10.0 in /usr/local/lib/python3.7/dist-packages (from scikit-surprise->surprise) (1.15.0)\n",
            "Requirement already satisfied: joblib>=0.11 in /usr/local/lib/python3.7/dist-packages (from scikit-surprise->surprise) (1.1.0)\n"
          ]
        }
      ]
    },
    {
      "cell_type": "code",
      "metadata": {
        "id": "LxPLB_qFpTo8"
      },
      "source": [
        "import numpy as np\n",
        "import os\n",
        "import pandas as pd\n",
        "from scipy import sparse\n",
        "import pickle"
      ],
      "execution_count": null,
      "outputs": []
    },
    {
      "cell_type": "code",
      "metadata": {
        "id": "xEWhEBJJrqWa"
      },
      "source": [
        "import surprise\n",
        "from surprise.trainset import Trainset\n",
        "from  surprise.dataset import Dataset, DatasetAutoFolds\n",
        "from surprise.reader import Reader\n",
        "from surprise.prediction_algorithms.matrix_factorization import SVDpp"
      ],
      "execution_count": null,
      "outputs": []
    },
    {
      "cell_type": "code",
      "metadata": {
        "id": "R341I6rvQhOF"
      },
      "source": [
        "\"\"\"\n",
        "import argparse\n",
        "parser = argparse.ArgumentParser()\n",
        "parser.add_argument('--root', type=str)\n",
        "parser.add_argument('--input_data', type=str)\n",
        "parser.add_argument('--training_results', type=str, default=\"svd_ml10m_training_results\")\n",
        "parser.add_argument('--eval_results', type=str, default= \"eval_results\")\n",
        "\n",
        "args = parser.parse_args()\n",
        "\n",
        "root = args.root\n",
        "data = os.path.join(root,args.input_data)\n",
        "output = os.path.join(root, args.training_results)\n",
        "\"\"\"\n",
        "\n",
        "#uncomment if running as .ipynb on Google Colabas\n",
        "#comment if running as  .py on cluster such as HIPPO\n",
        "class argclass(object):\n",
        "  def __init__(self):\n",
        "    self.root = \"/content/drive/MyDrive/COMP700_Honours Project\"\n",
        "    self.input_data = \"Data/movielens_10m/\"\n",
        "    self.training_results =\"svd_ml10m_training_results\"\n",
        "    self.eval_results = \"eval_results\"\n",
        "args = argclass()"
      ],
      "execution_count": null,
      "outputs": []
    },
    {
      "cell_type": "code",
      "metadata": {
        "id": "5vtlUOfoh6sE"
      },
      "source": [
        "root = args.root\n",
        "data = os.path.join(root,args.input_data)\n",
        "training_results = os.path.join(root, args.training_results)\n",
        "\n",
        "try:\n",
        "  os.mkdir(training_results)\n",
        "except FileExistsError:\n",
        "  pass\n"
      ],
      "execution_count": null,
      "outputs": []
    },
    {
      "cell_type": "markdown",
      "metadata": {
        "id": "miTGLX9W-oFw"
      },
      "source": [
        "#Data Preparation"
      ]
    },
    {
      "cell_type": "code",
      "metadata": {
        "id": "cze6TwpJ1OhP"
      },
      "source": [
        "reader = Reader(rating_scale=(0,1))"
      ],
      "execution_count": null,
      "outputs": []
    },
    {
      "cell_type": "code",
      "metadata": {
        "colab": {
          "base_uri": "https://localhost:8080/"
        },
        "id": "Shl_-6p6iBdm",
        "outputId": "5659f72c-542b-4265-b312-c2702a91fb14"
      },
      "source": [
        "train_data = pd.read_csv(os.path.join(data,\"split/train_rec.csv\")) #PRIMARY TRAINING DATA\n",
        "\n",
        "vad_data = pd.read_csv(os.path.join(data,\"split/vad_rec.csv\"))  #OPTIONAL WHETHER TO ADD OR NOT. WHICH IS MORE FAIR TO THE EXPERIMENT? (LEAVE OUT OR INCLUDE VAD FOR TRAINING FOR SVD++?)\n",
        "test_train_data = pd.read_csv(os.path.join(data,\"split/test_training_rec.csv\")) #HAS TO BE ADDED IN SO SVD++ HAS SEEN THE USERS INVOLVED\n",
        "\n",
        "\n",
        "print(train_data.shape)\n",
        "train_data = pd.concat([train_data, vad_data, test_train_data])\n",
        "\n",
        "\n",
        "#NOTE: SVDpp using explicit form since it has its own internal mechanism to get implicit data\n",
        "\n",
        "\n",
        "for i in range(len(test_train_data['rate'])):\n",
        "  test_train_data['rate'][i] = 1\n",
        "\n",
        "print(train_data.shape)"
      ],
      "execution_count": null,
      "outputs": [
        {
          "output_type": "stream",
          "name": "stdout",
          "text": [
            "(7133394, 3)\n",
            "(9718293, 3)\n"
          ]
        }
      ]
    },
    {
      "cell_type": "code",
      "metadata": {
        "id": "B8tb2O87u6Z_"
      },
      "source": [
        "\n",
        "train_datasetautofolds = DatasetAutoFolds(df = train_data[['uid','bid','rate']], reader=reader)\n",
        "trainset = train_datasetautofolds.build_full_trainset()\n"
      ],
      "execution_count": null,
      "outputs": []
    },
    {
      "cell_type": "markdown",
      "metadata": {
        "id": "9tLHoyPd0_SV"
      },
      "source": [
        "#TRAINING"
      ]
    },
    {
      "cell_type": "code",
      "metadata": {
        "id": "S86LIjSGzP2Z"
      },
      "source": [
        "model = SVDpp(verbose=True,)"
      ],
      "execution_count": null,
      "outputs": []
    },
    {
      "cell_type": "code",
      "metadata": {
        "id": "E6tvBuTz1DiM"
      },
      "source": [
        "model.fit(trainset)"
      ],
      "execution_count": null,
      "outputs": []
    },
    {
      "cell_type": "code",
      "metadata": {
        "id": "MS7t4xi_r87d"
      },
      "source": [
        "pickle.dump(model, open(os.path.join(training_results,\"svdpp_impl_trained.pkl\",) , \"wb\"))"
      ],
      "execution_count": null,
      "outputs": []
    },
    {
      "cell_type": "markdown",
      "metadata": {
        "id": "VmucIS9O-0x-"
      },
      "source": [
        "#Predictions"
      ]
    },
    {
      "cell_type": "code",
      "metadata": {
        "id": "hxc8wQhtPY8h"
      },
      "source": [
        "model = pickle.load(open(os.path.join(training_results,\"svdpp_impl_trained.pkl\",) , \"rb\"))"
      ],
      "execution_count": null,
      "outputs": []
    },
    {
      "cell_type": "code",
      "metadata": {
        "id": "JNuH7q-4Gbeo"
      },
      "source": [
        "eval_results = os.path.join(training_results, args.eval_results)\n",
        "try:\n",
        "  os.mkdir(eval_results)\n",
        "except FileExistsError:\n",
        "  pass"
      ],
      "execution_count": null,
      "outputs": []
    },
    {
      "cell_type": "code",
      "metadata": {
        "id": "rRRusJP4COzP"
      },
      "source": [
        "def predict_with_svd(svd_model, input_recs, u_lookup, b_lookup, prev_cutoff=0):\n",
        "  \n",
        "  temp_dir_pred = \"temp_preds_svd.csv\"\n",
        "  #temp_dir_pred_svd = os.path.join(root, temp_dir_pred_svd)\n",
        "  \n",
        "  columns = ['uid','bid','rate']\n",
        "  results = []\n",
        "  \n",
        "  for i in range(prev_cutoff, len(input_recs['uid'])):\n",
        "\n",
        "    uid = input_recs['uid'][i]\n",
        "    bid = input_recs['bid'][i]\n",
        "\n",
        "    rate = svd_model.predict(uid, bid).est\n",
        "\n",
        "    results.append([uid, bid, rate])\n",
        "\n",
        "    if not i%1000:\n",
        "      results = pd.DataFrame(results, columns = columns)\n",
        "\n",
        "      is_new_file = i==0\n",
        "      results.to_csv(temp_dir_pred,\n",
        "                     index=False, \n",
        "                     header=is_new_file, \n",
        "                     mode= \"w\" if is_new_file else \"a\"\n",
        "                     )\n",
        "      results = []\n",
        "\n",
        "    if not i%1000:\n",
        "      print(i)\n",
        "  \n",
        "  results = pd.DataFrame(results, columns = ['uid','bid','rate'])\n",
        "  results.to_csv(temp_dir_pred,\n",
        "                index=False, \n",
        "                header=False, \n",
        "                mode=\"a\"\n",
        "                )\n",
        "  \n",
        "  #here done with partial writes. re-read full file and form matrix\n",
        "  results = pd.read_csv(temp_dir_pred)\n",
        "  reverse_u_lookup = {uid:i for (i, uid) in enumerate(u_lookup)}\n",
        "  reverse_b_lookup = {bid:i for (i, bid) in enumerate(b_lookup)}\n",
        "  \n",
        "\n",
        "  rows = [ reverse_u_lookup[uid] for uid in results['uid'] ] \n",
        "  cols = [ reverse_b_lookup[bid] for bid in results['bid'] ] \n",
        "  values = results['rate']\n",
        "\n",
        "  num_u = len(reverse_u_lookup.keys())\n",
        "  num_b = len(reverse_b_lookup.keys())\n",
        "\n",
        "  sparse_pred = sparse.csr_matrix(  (values , (rows, cols)) , shape=( num_u,num_b) )\n",
        "\n",
        "  results = None\n",
        "  return sparse_pred"
      ],
      "execution_count": null,
      "outputs": []
    },
    {
      "cell_type": "code",
      "metadata": {
        "id": "_NZQtQpkAF-5"
      },
      "source": [
        "with open(os.path.join(data,\"unique_b.txt\") , 'r', encoding='utf-8') as bfile:\n",
        "  unique_b = bfile.readlines()\n",
        "  b_lookup = [b.strip() for b in unique_b]\n",
        "\n",
        "with open(os.path.join(data,\"split\",\"unique_u_test.txt\") , 'r', encoding='utf-8') as ufile:\n",
        "  unique_u = ufile.readlines()\n",
        "  test_u_lookup = [u.strip() for u in unique_u]\n",
        "\n",
        "test_true_recs = pd.read_csv(os.path.join(data,\"split/test_testing_rec.csv\")) # predict only on test testing data"
      ],
      "execution_count": null,
      "outputs": []
    },
    {
      "cell_type": "code",
      "metadata": {
        "id": "Fmw0KoBxBv71"
      },
      "source": [
        "svd_pred = predict_with_svd(model, test_true_recs, test_u_lookup, b_lookup, )"
      ],
      "execution_count": null,
      "outputs": []
    },
    {
      "cell_type": "code",
      "metadata": {
        "id": "jLJxU1TjF6OU"
      },
      "source": [
        "pickle.dump(svd_pred, open(os.path.join(eval_results,\"svdpp_preds.pkl\",) , \"wb\"))"
      ],
      "execution_count": null,
      "outputs": []
    },
    {
      "cell_type": "markdown",
      "metadata": {
        "id": "bk4jwpAlMyFg"
      },
      "source": [
        "#Evaluation"
      ]
    },
    {
      "cell_type": "code",
      "metadata": {
        "id": "3uOeyrPoN0Ie"
      },
      "source": [
        "from tensorflow.keras.utils import Sequence \n",
        "from tensorflow.keras import Model, layers\n",
        "!pip3 install tensorflow-ranking\n",
        "import tensorflow_ranking as tfr\n",
        "import math"
      ],
      "execution_count": null,
      "outputs": []
    },
    {
      "cell_type": "code",
      "metadata": {
        "id": "WSCrbV7kM1Qk"
      },
      "source": [
        "class datagen(Sequence):\n",
        "  def __init__(self, pred_set, true_set, batch_size=500, max_samples_per_epoch=None):\n",
        "    self.pred = pred_set\n",
        "    self.true = true_set\n",
        "\n",
        "    self.batch_size = batch_size\n",
        "\n",
        "    self.shuffled_idx = np.arange(np.shape(self.true)[0]) #get indexes\n",
        "    np.random.shuffle(self.shuffled_idx) # shuffle\n",
        "\n",
        "    if max_samples_per_epoch is not None:\n",
        "      self.shuffled_idx = self.shuffled_idx[:max_samples_per_epoch] #cutoff at max no of samples allowed in epoch\n",
        "\n",
        "  def on_epoch_end(self):\n",
        "    self.shuffled_idx = np.arange(np.shape(self.true)[0]) #get indexes\n",
        "    np.random.shuffle(self.shuffled_idx) # shuffle\n",
        "    if max_samples_per_epoch is not None:\n",
        "      self.shuffled_idx = self.shuffled_idx[:max_samples_per_epoch] #cutoff at max no of samples allowed in epoch\n",
        "\n",
        "\n",
        "  def __len__(self):\n",
        "      return math.ceil((self.true.shape[0]) / self.batch_size)\n",
        "      #return len(self.shuffled_idx)\n",
        "      \n",
        "  def __getitem__(self, idx):\n",
        "    #idx = idx%self.__len__()\n",
        "\n",
        "    b_idx = idx * self.batch_size\n",
        "    e_idx = (idx + 1) * self.batch_size\n",
        "\n",
        "    idx = self.shuffled_idx[b_idx:e_idx] #cut slice of indexes using begin and end indexes\n",
        "\n",
        "    #print(\"\\n\\n\",idx, \"batch_size:\",i.shape[0],\"\\n\\n\",)\n",
        "\n",
        "    batch_true = np.array(self.true[idx].todense())\n",
        "\n",
        "    batch_pred = np.array(self.pred[idx].todense())\n",
        "\n",
        "\n",
        "    return batch_pred, batch_true "
      ],
      "execution_count": null,
      "outputs": []
    },
    {
      "cell_type": "code",
      "metadata": {
        "id": "29Do99djNhD5"
      },
      "source": [
        "test_true = pickle.load(open(os.path.join(data,\"split/matrices/implicit\",\"test_impl.pkl\"), \"rb\"))\n",
        "\n",
        "test_test = pickle.load(open(os.path.join(data,\"split/matrices/implicit\",\"test_testing_impl.pkl\"), \"rb\"))\n",
        "\n",
        "\n",
        "test_pred = pickle.load(open(os.path.join(eval_results,\"svdpp_preds.pkl\",) , \"rb\"))\n",
        "\n",
        "eval_datagen = datagen(pred_set=test_pred, true_set=test_true)  #evaluate against all test data, both test-training and test-testing"
      ],
      "execution_count": null,
      "outputs": []
    },
    {
      "cell_type": "code",
      "metadata": {
        "colab": {
          "base_uri": "https://localhost:8080/"
        },
        "id": "MveZh3a7WWbk",
        "outputId": "3b130d4c-9b20-45fd-ad63-6a8885aee880"
      },
      "source": [
        "eval_datagen.__getitem__(0)[0].shape[1]"
      ],
      "execution_count": null,
      "outputs": [
        {
          "output_type": "execute_result",
          "data": {
            "text/plain": [
              "127351"
            ]
          },
          "metadata": {},
          "execution_count": 26
        }
      ]
    },
    {
      "cell_type": "code",
      "metadata": {
        "id": "_8gGO5FXV4NG"
      },
      "source": [
        "input = layers.Input(eval_datagen.__getitem__(0)[0].shape[1], name = 'input')\n",
        "\n",
        "placeholder = Model(inputs = input, outputs = input, name = 'dummy')"
      ],
      "execution_count": null,
      "outputs": []
    },
    {
      "cell_type": "code",
      "metadata": {
        "id": "YyC3mcPAOOuL"
      },
      "source": [
        "metrics = [ tfr.keras.metrics.RecallMetric(name = \"recall_20\", topn=20,),\n",
        "           tfr.keras.metrics.RecallMetric(name = \"recall_50\", topn=50,),\n",
        "           tfr.keras.metrics.NDCGMetric(name = \"ndcg_100\", topn=100,)         \n",
        "]\n",
        "\n",
        "placeholder.compile(metrics = metrics)\n"
      ],
      "execution_count": null,
      "outputs": []
    },
    {
      "cell_type": "code",
      "metadata": {
        "colab": {
          "base_uri": "https://localhost:8080/"
        },
        "id": "s7as-F4vaj-V",
        "outputId": "1e543a53-d072-48f2-cdd7-fe828d2919f0"
      },
      "source": [
        "evals = placeholder.evaluate(eval_datagen, verbose=1)"
      ],
      "execution_count": null,
      "outputs": [
        {
          "output_type": "stream",
          "name": "stdout",
          "text": [
            "20/20 [==============================] - 523s 26s/step - loss: 0.0000e+00 - recall_20: 0.1711 - recall_50: 0.1722 - ndcg_100: 0.3096\n"
          ]
        }
      ]
    },
    {
      "cell_type": "markdown",
      "metadata": {
        "id": "GebCNOOuuyog"
      },
      "source": [
        "#**test-test** preds vs **all-test** trues:\n",
        "yelp \n",
        "\n",
        "r@20: 0.1711\n",
        "\n",
        "r@50: 0.1722\n",
        "\n",
        "n@100: 0.3096"
      ]
    }
  ]
}