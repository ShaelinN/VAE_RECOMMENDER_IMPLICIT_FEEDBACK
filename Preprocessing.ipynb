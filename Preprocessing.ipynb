{
  "nbformat": 4,
  "nbformat_minor": 0,
  "metadata": {
    "colab": {
      "name": "Preprocessing.ipynb",
      "provenance": [],
      "collapsed_sections": [
        "x3e-r-yOEJS1",
        "HaCdJhXgENhe",
        "u5O6-ob7fShR",
        "HllP6AXK4gqi",
        "b2l8scXA5McJ",
        "5Phwal8o5wEQ"
      ],
      "mount_file_id": "14Aatp7sNuPrdcbavseFrnfMEqohN3Kn9",
      "authorship_tag": "ABX9TyMHyon7JjXV/dHnWclBzBQf",
      "include_colab_link": true
    },
    "kernelspec": {
      "name": "python3",
      "display_name": "Python 3"
    },
    "language_info": {
      "name": "python"
    }
  },
  "cells": [
    {
      "cell_type": "markdown",
      "metadata": {
        "id": "view-in-github",
        "colab_type": "text"
      },
      "source": [
        "<a href=\"https://colab.research.google.com/github/ShaelinN/VAE_RECOMMENDER_IMPLICIT_FEEDBACK/blob/main/Preprocessing.ipynb\" target=\"_parent\"><img src=\"https://colab.research.google.com/assets/colab-badge.svg\" alt=\"Open In Colab\"/></a>"
      ]
    },
    {
      "cell_type": "code",
      "metadata": {
        "id": "aBPKo1GiQp_o"
      },
      "source": [
        "from google.colab import drive\n",
        "drive.mount('/content/drive')"
      ],
      "execution_count": null,
      "outputs": []
    },
    {
      "cell_type": "markdown",
      "metadata": {
        "id": "x3e-r-yOEJS1"
      },
      "source": [
        "#All imports"
      ]
    },
    {
      "cell_type": "code",
      "metadata": {
        "id": "-XFaRvT44WzM"
      },
      "source": [
        "import os\n",
        "import pandas as pd\n",
        "import numpy as np"
      ],
      "execution_count": null,
      "outputs": []
    },
    {
      "cell_type": "code",
      "metadata": {
        "id": "lYeZFmCB6Vcu"
      },
      "source": [
        "from scipy import sparse\n",
        "import pickle\n",
        "import random"
      ],
      "execution_count": null,
      "outputs": []
    },
    {
      "cell_type": "markdown",
      "metadata": {
        "id": "HaCdJhXgENhe"
      },
      "source": [
        "#Common directories"
      ]
    },
    {
      "cell_type": "code",
      "metadata": {
        "id": "5goBSM5_4biF"
      },
      "source": [
        "root = \"/content/drive/MyDrive/COMP700_Honours Project\""
      ],
      "execution_count": null,
      "outputs": []
    },
    {
      "cell_type": "code",
      "metadata": {
        "id": "EMtUhJR14eU8"
      },
      "source": [
        "data = os.path.join(root,\"Data\")"
      ],
      "execution_count": null,
      "outputs": []
    },
    {
      "cell_type": "code",
      "metadata": {
        "id": "eXX8Ci5WeO-u"
      },
      "source": [
        "specific_version_data = os.path.join(data,\"ml20m\")"
      ],
      "execution_count": null,
      "outputs": []
    },
    {
      "cell_type": "code",
      "metadata": {
        "id": "BgBNQFeaZ8ng"
      },
      "source": [
        "records_filename = \"ml20m_reviews.csv\""
      ],
      "execution_count": null,
      "outputs": []
    },
    {
      "cell_type": "code",
      "metadata": {
        "id": "tpwtZ30kaw-z"
      },
      "source": [
        "split = os.path.join(specific_version_data,\"split\")"
      ],
      "execution_count": null,
      "outputs": []
    },
    {
      "cell_type": "code",
      "metadata": {
        "id": "pKnO5B0f8CkF"
      },
      "source": [
        "matrix_folder = os.path.join(split,\"matrices\")\n",
        "implicit = os.path.join(matrix_folder, \"implicit\")\n",
        "explicit = os.path.join(matrix_folder, \"explicit\")"
      ],
      "execution_count": null,
      "outputs": []
    },
    {
      "cell_type": "code",
      "metadata": {
        "id": "1sMPhECofZMF"
      },
      "source": [
        "try:\n",
        "  os.mkdir(specific_version_data)\n",
        "except FileExistsError:\n",
        "  pass"
      ],
      "execution_count": null,
      "outputs": []
    },
    {
      "cell_type": "code",
      "metadata": {
        "id": "LRj2vDUBqQjW"
      },
      "source": [
        "try:\n",
        "  os.mkdir(split)\n",
        "except FileExistsError:\n",
        "  pass"
      ],
      "execution_count": null,
      "outputs": []
    },
    {
      "cell_type": "code",
      "metadata": {
        "id": "LZjRvp3S8IvX"
      },
      "source": [
        "try:\n",
        "  os.mkdir(matrix_folder)\n",
        "except FileExistsError:\n",
        "  pass\n",
        "\n",
        "try:\n",
        "  os.mkdir(implicit)\n",
        "except FileExistsError:\n",
        "  pass\n",
        "\n",
        "try:\n",
        "  os.mkdir(explicit)\n",
        "except FileExistsError:\n",
        "  pass\n"
      ],
      "execution_count": null,
      "outputs": []
    },
    {
      "cell_type": "code",
      "metadata": {
        "id": "5akSDDE56dOF",
        "colab": {
          "base_uri": "https://localhost:8080/"
        },
        "outputId": "ab9239a8-8857-40d6-c151-47d5c753b74e"
      },
      "source": [
        "records = pd.read_csv(os.path.join(data , records_filename))\n",
        "records.head()"
      ],
      "execution_count": null,
      "outputs": [
        {
          "output_type": "execute_result",
          "data": {
            "text/html": [
              "<div>\n",
              "<style scoped>\n",
              "    .dataframe tbody tr th:only-of-type {\n",
              "        vertical-align: middle;\n",
              "    }\n",
              "\n",
              "    .dataframe tbody tr th {\n",
              "        vertical-align: top;\n",
              "    }\n",
              "\n",
              "    .dataframe thead th {\n",
              "        text-align: right;\n",
              "    }\n",
              "</style>\n",
              "<table border=\"1\" class=\"dataframe\">\n",
              "  <thead>\n",
              "    <tr style=\"text-align: right;\">\n",
              "      <th></th>\n",
              "      <th>uid</th>\n",
              "      <th>bid</th>\n",
              "      <th>rate</th>\n",
              "    </tr>\n",
              "  </thead>\n",
              "  <tbody>\n",
              "    <tr>\n",
              "      <th>0</th>\n",
              "      <td>u1u</td>\n",
              "      <td>b2b</td>\n",
              "      <td>3.5</td>\n",
              "    </tr>\n",
              "    <tr>\n",
              "      <th>1</th>\n",
              "      <td>u1u</td>\n",
              "      <td>b29b</td>\n",
              "      <td>3.5</td>\n",
              "    </tr>\n",
              "    <tr>\n",
              "      <th>2</th>\n",
              "      <td>u1u</td>\n",
              "      <td>b32b</td>\n",
              "      <td>3.5</td>\n",
              "    </tr>\n",
              "    <tr>\n",
              "      <th>3</th>\n",
              "      <td>u1u</td>\n",
              "      <td>b47b</td>\n",
              "      <td>3.5</td>\n",
              "    </tr>\n",
              "    <tr>\n",
              "      <th>4</th>\n",
              "      <td>u1u</td>\n",
              "      <td>b50b</td>\n",
              "      <td>3.5</td>\n",
              "    </tr>\n",
              "  </tbody>\n",
              "</table>\n",
              "</div>"
            ],
            "text/plain": [
              "   uid   bid  rate\n",
              "0  u1u   b2b   3.5\n",
              "1  u1u  b29b   3.5\n",
              "2  u1u  b32b   3.5\n",
              "3  u1u  b47b   3.5\n",
              "4  u1u  b50b   3.5"
            ]
          },
          "metadata": {},
          "execution_count": 29
        }
      ]
    },
    {
      "cell_type": "markdown",
      "metadata": {
        "id": "u5O6-ob7fShR"
      },
      "source": [
        "#HACK\n",
        "prevents pandas from changing datatypesto numeric and affecting the rest of the code\n",
        "\n",
        "##only use if the uids and bids are of number format instead of text\n"
      ]
    },
    {
      "cell_type": "code",
      "metadata": {
        "id": "HuVPjMIGfeAk"
      },
      "source": [
        "u = np.str('u')\n",
        "b = np.str('b')"
      ],
      "execution_count": null,
      "outputs": []
    },
    {
      "cell_type": "code",
      "metadata": {
        "id": "8FaM2BuigsAv"
      },
      "source": [
        "str_u = [] "
      ],
      "execution_count": null,
      "outputs": []
    },
    {
      "cell_type": "code",
      "metadata": {
        "id": "fNZZ9woDa5gW"
      },
      "source": [
        "for i in range(len(records['uid'])):\n",
        "  str_u.append(u+np.str(records['uid'][i])+u)\n",
        "\n",
        "  if not i%10000:\n",
        "    print(str_u[i], i)\n",
        "#str_u = np.array(str_u)"
      ],
      "execution_count": null,
      "outputs": []
    },
    {
      "cell_type": "code",
      "metadata": {
        "id": "mNbAbTIve1r2"
      },
      "source": [
        "records['uid'] = str_u"
      ],
      "execution_count": null,
      "outputs": []
    },
    {
      "cell_type": "code",
      "metadata": {
        "id": "A40i0NTtgOPN"
      },
      "source": [
        "records.to_csv(os.path.join(root,\"temprev.csv\"), index=False)"
      ],
      "execution_count": null,
      "outputs": []
    },
    {
      "cell_type": "code",
      "metadata": {
        "id": "rltmfbAbgsuq"
      },
      "source": [
        "str_b = [] "
      ],
      "execution_count": null,
      "outputs": []
    },
    {
      "cell_type": "code",
      "metadata": {
        "id": "RcpuR4kiduMr"
      },
      "source": [
        "for i in range(len(records['bid'])):\n",
        "  str_b.append(b+np.str(records['bid'][i])+b)\n",
        "\n",
        "  if not i%10000:\n",
        "    print(str_b[i], i)"
      ],
      "execution_count": null,
      "outputs": []
    },
    {
      "cell_type": "code",
      "metadata": {
        "id": "5chhC08vh5gf"
      },
      "source": [
        "records['bid'] = str_b"
      ],
      "execution_count": null,
      "outputs": []
    },
    {
      "cell_type": "code",
      "metadata": {
        "id": "Iv-9tFVCh5gg"
      },
      "source": [
        "str_b"
      ],
      "execution_count": null,
      "outputs": []
    },
    {
      "cell_type": "code",
      "metadata": {
        "id": "BYoTI1IwidBB"
      },
      "source": [
        "records.to_csv(os.path.join(data,records_filename), index=False)"
      ],
      "execution_count": null,
      "outputs": []
    },
    {
      "cell_type": "markdown",
      "metadata": {
        "id": "HllP6AXK4gqi"
      },
      "source": [
        "#Filtration:\n",
        "remove from the dataset users and businesses who do not have many interactions"
      ]
    },
    {
      "cell_type": "markdown",
      "metadata": {
        "id": "NzJ1Pq_frybg"
      },
      "source": [
        "###Filter\n",
        "in line with other projects, remove records involving businesses with fewer than 5 reviews to them, (or involving users with fewer than 1 reviews by them)"
      ]
    },
    {
      "cell_type": "code",
      "metadata": {
        "id": "hcmF1_1CbZPc"
      },
      "source": [
        "user_threshold = 5\n",
        "business_threshold = 5"
      ],
      "execution_count": null,
      "outputs": []
    },
    {
      "cell_type": "code",
      "metadata": {
        "id": "nr5ShQLVuXqL"
      },
      "source": [
        "def count(df, id):\n",
        "  groupbyid = df[[id]].groupby(id, as_index=False)\n",
        "  count = groupbyid.size()\n",
        "  return count\n"
      ],
      "execution_count": null,
      "outputs": []
    },
    {
      "cell_type": "code",
      "metadata": {
        "id": "3h-hY3w9dNyv"
      },
      "source": [
        "def filter(df, col, thresh):\n",
        "  print(\"original:\",df.shape)\n",
        "\n",
        "  itemcount = count(df, col) # id:num occurrence of id\n",
        "  retain_ids = itemcount.where(itemcount['size'] >= thresh).dropna() #which ids to keep\n",
        "  print(\"unique col in final:\",retain_ids.shape) #number of users in final\n",
        "\n",
        "\n",
        "  where_idx = df[col].isin(retain_ids[col]) # original df row_idx: <true/false>(is col id at index in retain_ids?) same len as original df\n",
        "\n",
        "  filtered = df.where(where_idx).dropna()#.astype(np.int64) #d\n",
        "  print(\"final:\",filtered.shape)\n",
        "\n",
        "\n",
        "\n",
        "  uu = filtered['uid'].unique().shape[0]\n",
        "  ub = filtered['bid'].unique().shape[0]\n",
        "  items = filtered['rate'].shape[0]\n",
        "\n",
        "  sparsity = (1.0 * items)/(uu * ub)\n",
        "  print(\"After filtering, there are %d events from %d users and %d businesses (sparsity: %.3f%%)\" % \n",
        "      (items, uu, ub, sparsity * 100))\n",
        "\n",
        "  return filtered"
      ],
      "execution_count": null,
      "outputs": []
    },
    {
      "cell_type": "code",
      "metadata": {
        "colab": {
          "base_uri": "https://localhost:8080/"
        },
        "id": "2xY-TuEu0ErG",
        "outputId": "064ed028-1fa6-4faf-9359-59f48fcf079d"
      },
      "source": [
        "records = filter(records, \"uid\", user_threshold)\n",
        "records = filter(records, \"bid\", business_threshold)"
      ],
      "execution_count": null,
      "outputs": [
        {
          "output_type": "stream",
          "name": "stdout",
          "text": [
            "original: (20000263, 3)\n",
            "unique col in final: (138493, 2)\n",
            "final: (20000263, 3)\n",
            "After filtering, there are 20000263 events from 138493 users and 26744 businesses (sparsity: 0.540%)\n",
            "original: (20000263, 3)\n",
            "unique col in final: (18345, 2)\n",
            "final: (19984024, 3)\n",
            "After filtering, there are 19984024 events from 138493 users and 18345 businesses (sparsity: 0.787%)\n"
          ]
        }
      ]
    },
    {
      "cell_type": "code",
      "metadata": {
        "colab": {
          "base_uri": "https://localhost:8080/",
          "height": 204
        },
        "id": "WhxBK_2NXOGK",
        "outputId": "9618b1f7-1912-4003-dffa-a89dd73cb02a"
      },
      "source": [
        "records.head()"
      ],
      "execution_count": null,
      "outputs": [
        {
          "output_type": "execute_result",
          "data": {
            "text/html": [
              "<div>\n",
              "<style scoped>\n",
              "    .dataframe tbody tr th:only-of-type {\n",
              "        vertical-align: middle;\n",
              "    }\n",
              "\n",
              "    .dataframe tbody tr th {\n",
              "        vertical-align: top;\n",
              "    }\n",
              "\n",
              "    .dataframe thead th {\n",
              "        text-align: right;\n",
              "    }\n",
              "</style>\n",
              "<table border=\"1\" class=\"dataframe\">\n",
              "  <thead>\n",
              "    <tr style=\"text-align: right;\">\n",
              "      <th></th>\n",
              "      <th>uid</th>\n",
              "      <th>bid</th>\n",
              "      <th>rate</th>\n",
              "    </tr>\n",
              "  </thead>\n",
              "  <tbody>\n",
              "    <tr>\n",
              "      <th>0</th>\n",
              "      <td>u1u</td>\n",
              "      <td>b2b</td>\n",
              "      <td>3.5</td>\n",
              "    </tr>\n",
              "    <tr>\n",
              "      <th>1</th>\n",
              "      <td>u1u</td>\n",
              "      <td>b29b</td>\n",
              "      <td>3.5</td>\n",
              "    </tr>\n",
              "    <tr>\n",
              "      <th>2</th>\n",
              "      <td>u1u</td>\n",
              "      <td>b32b</td>\n",
              "      <td>3.5</td>\n",
              "    </tr>\n",
              "    <tr>\n",
              "      <th>3</th>\n",
              "      <td>u1u</td>\n",
              "      <td>b47b</td>\n",
              "      <td>3.5</td>\n",
              "    </tr>\n",
              "    <tr>\n",
              "      <th>4</th>\n",
              "      <td>u1u</td>\n",
              "      <td>b50b</td>\n",
              "      <td>3.5</td>\n",
              "    </tr>\n",
              "  </tbody>\n",
              "</table>\n",
              "</div>"
            ],
            "text/plain": [
              "   uid   bid  rate\n",
              "0  u1u   b2b   3.5\n",
              "1  u1u  b29b   3.5\n",
              "2  u1u  b32b   3.5\n",
              "3  u1u  b47b   3.5\n",
              "4  u1u  b50b   3.5"
            ]
          },
          "metadata": {},
          "execution_count": 33
        }
      ]
    },
    {
      "cell_type": "markdown",
      "metadata": {
        "id": "CX39koUnDe_a"
      },
      "source": [
        "###saving:\n",
        " * the csv of filtered reviews\n",
        " * a shuffled order list of user ids and business ids\n"
      ]
    },
    {
      "cell_type": "code",
      "metadata": {
        "id": "6_21m_7SvTf0"
      },
      "source": [
        "records.to_csv(os.path.join(specific_version_data , \"filtered_reviews.csv\"), index=False)"
      ],
      "execution_count": null,
      "outputs": []
    },
    {
      "cell_type": "code",
      "metadata": {
        "id": "ARuL4gAt_U4K"
      },
      "source": [
        "seed = np.random.seed(12345)\n",
        "unique_u = records['uid'].unique()\n",
        "np.random.shuffle(unique_u)\n",
        "\n",
        "unique_b = records['bid'].unique()\n",
        "np.random.shuffle(unique_b)\n",
        "with open(os.path.join(specific_version_data,\"unique_b.txt\") , 'w') as bfile:\n",
        "  bfile.writelines('\\n'.join(unique_b))\n",
        "\n",
        "with open(os.path.join(specific_version_data,\"unique_u.txt\") , 'w') as ufile:\n",
        "  ufile.writelines('\\n'.join(unique_u))"
      ],
      "execution_count": null,
      "outputs": []
    },
    {
      "cell_type": "markdown",
      "metadata": {
        "id": "b2l8scXA5McJ"
      },
      "source": [
        "#Binarize Data Format\n",
        "convert the reviews from a scale of 1-5, to a binary of 0-1. \n",
        "* [1..3] -> 0 \n",
        "* [4..5] -> 1"
      ]
    },
    {
      "cell_type": "code",
      "metadata": {
        "colab": {
          "base_uri": "https://localhost:8080/",
          "height": 204
        },
        "id": "C0JQ5pdjWj4p",
        "outputId": "66b84c0c-4e13-45f2-d0cf-a3ec1eaca6eb"
      },
      "source": [
        "#records = pd.read_csv(os.path.join(specific_version_data , \"filtered_reviews.csv\"))\n",
        "records.head()"
      ],
      "execution_count": null,
      "outputs": [
        {
          "output_type": "execute_result",
          "data": {
            "text/html": [
              "<div>\n",
              "<style scoped>\n",
              "    .dataframe tbody tr th:only-of-type {\n",
              "        vertical-align: middle;\n",
              "    }\n",
              "\n",
              "    .dataframe tbody tr th {\n",
              "        vertical-align: top;\n",
              "    }\n",
              "\n",
              "    .dataframe thead th {\n",
              "        text-align: right;\n",
              "    }\n",
              "</style>\n",
              "<table border=\"1\" class=\"dataframe\">\n",
              "  <thead>\n",
              "    <tr style=\"text-align: right;\">\n",
              "      <th></th>\n",
              "      <th>uid</th>\n",
              "      <th>bid</th>\n",
              "      <th>rate</th>\n",
              "    </tr>\n",
              "  </thead>\n",
              "  <tbody>\n",
              "    <tr>\n",
              "      <th>0</th>\n",
              "      <td>u1u</td>\n",
              "      <td>b2b</td>\n",
              "      <td>3.5</td>\n",
              "    </tr>\n",
              "    <tr>\n",
              "      <th>1</th>\n",
              "      <td>u1u</td>\n",
              "      <td>b29b</td>\n",
              "      <td>3.5</td>\n",
              "    </tr>\n",
              "    <tr>\n",
              "      <th>2</th>\n",
              "      <td>u1u</td>\n",
              "      <td>b32b</td>\n",
              "      <td>3.5</td>\n",
              "    </tr>\n",
              "    <tr>\n",
              "      <th>3</th>\n",
              "      <td>u1u</td>\n",
              "      <td>b47b</td>\n",
              "      <td>3.5</td>\n",
              "    </tr>\n",
              "    <tr>\n",
              "      <th>4</th>\n",
              "      <td>u1u</td>\n",
              "      <td>b50b</td>\n",
              "      <td>3.5</td>\n",
              "    </tr>\n",
              "  </tbody>\n",
              "</table>\n",
              "</div>"
            ],
            "text/plain": [
              "   uid   bid  rate\n",
              "0  u1u   b2b   3.5\n",
              "1  u1u  b29b   3.5\n",
              "2  u1u  b32b   3.5\n",
              "3  u1u  b47b   3.5\n",
              "4  u1u  b50b   3.5"
            ]
          },
          "metadata": {},
          "execution_count": 36
        }
      ]
    },
    {
      "cell_type": "code",
      "metadata": {
        "id": "cyEgU07f67Pt"
      },
      "source": [
        "records['rate'] = np.where(records['rate'] < 4, 0, 1)"
      ],
      "execution_count": null,
      "outputs": []
    },
    {
      "cell_type": "code",
      "metadata": {
        "id": "z57T4lskDZkc",
        "colab": {
          "base_uri": "https://localhost:8080/",
          "height": 512
        },
        "outputId": "4482ac5a-48de-409e-bed7-4a01c5a54548"
      },
      "source": [
        "records.head(15)"
      ],
      "execution_count": null,
      "outputs": [
        {
          "output_type": "execute_result",
          "data": {
            "text/html": [
              "<div>\n",
              "<style scoped>\n",
              "    .dataframe tbody tr th:only-of-type {\n",
              "        vertical-align: middle;\n",
              "    }\n",
              "\n",
              "    .dataframe tbody tr th {\n",
              "        vertical-align: top;\n",
              "    }\n",
              "\n",
              "    .dataframe thead th {\n",
              "        text-align: right;\n",
              "    }\n",
              "</style>\n",
              "<table border=\"1\" class=\"dataframe\">\n",
              "  <thead>\n",
              "    <tr style=\"text-align: right;\">\n",
              "      <th></th>\n",
              "      <th>uid</th>\n",
              "      <th>bid</th>\n",
              "      <th>rate</th>\n",
              "    </tr>\n",
              "  </thead>\n",
              "  <tbody>\n",
              "    <tr>\n",
              "      <th>0</th>\n",
              "      <td>u1u</td>\n",
              "      <td>b2b</td>\n",
              "      <td>0</td>\n",
              "    </tr>\n",
              "    <tr>\n",
              "      <th>1</th>\n",
              "      <td>u1u</td>\n",
              "      <td>b29b</td>\n",
              "      <td>0</td>\n",
              "    </tr>\n",
              "    <tr>\n",
              "      <th>2</th>\n",
              "      <td>u1u</td>\n",
              "      <td>b32b</td>\n",
              "      <td>0</td>\n",
              "    </tr>\n",
              "    <tr>\n",
              "      <th>3</th>\n",
              "      <td>u1u</td>\n",
              "      <td>b47b</td>\n",
              "      <td>0</td>\n",
              "    </tr>\n",
              "    <tr>\n",
              "      <th>4</th>\n",
              "      <td>u1u</td>\n",
              "      <td>b50b</td>\n",
              "      <td>0</td>\n",
              "    </tr>\n",
              "    <tr>\n",
              "      <th>5</th>\n",
              "      <td>u1u</td>\n",
              "      <td>b112b</td>\n",
              "      <td>0</td>\n",
              "    </tr>\n",
              "    <tr>\n",
              "      <th>6</th>\n",
              "      <td>u1u</td>\n",
              "      <td>b151b</td>\n",
              "      <td>1</td>\n",
              "    </tr>\n",
              "    <tr>\n",
              "      <th>7</th>\n",
              "      <td>u1u</td>\n",
              "      <td>b223b</td>\n",
              "      <td>1</td>\n",
              "    </tr>\n",
              "    <tr>\n",
              "      <th>8</th>\n",
              "      <td>u1u</td>\n",
              "      <td>b253b</td>\n",
              "      <td>1</td>\n",
              "    </tr>\n",
              "    <tr>\n",
              "      <th>9</th>\n",
              "      <td>u1u</td>\n",
              "      <td>b260b</td>\n",
              "      <td>1</td>\n",
              "    </tr>\n",
              "    <tr>\n",
              "      <th>10</th>\n",
              "      <td>u1u</td>\n",
              "      <td>b293b</td>\n",
              "      <td>1</td>\n",
              "    </tr>\n",
              "    <tr>\n",
              "      <th>11</th>\n",
              "      <td>u1u</td>\n",
              "      <td>b296b</td>\n",
              "      <td>1</td>\n",
              "    </tr>\n",
              "    <tr>\n",
              "      <th>12</th>\n",
              "      <td>u1u</td>\n",
              "      <td>b318b</td>\n",
              "      <td>1</td>\n",
              "    </tr>\n",
              "    <tr>\n",
              "      <th>13</th>\n",
              "      <td>u1u</td>\n",
              "      <td>b337b</td>\n",
              "      <td>0</td>\n",
              "    </tr>\n",
              "    <tr>\n",
              "      <th>14</th>\n",
              "      <td>u1u</td>\n",
              "      <td>b367b</td>\n",
              "      <td>0</td>\n",
              "    </tr>\n",
              "  </tbody>\n",
              "</table>\n",
              "</div>"
            ],
            "text/plain": [
              "    uid    bid  rate\n",
              "0   u1u    b2b     0\n",
              "1   u1u   b29b     0\n",
              "2   u1u   b32b     0\n",
              "3   u1u   b47b     0\n",
              "4   u1u   b50b     0\n",
              "5   u1u  b112b     0\n",
              "6   u1u  b151b     1\n",
              "7   u1u  b223b     1\n",
              "8   u1u  b253b     1\n",
              "9   u1u  b260b     1\n",
              "10  u1u  b293b     1\n",
              "11  u1u  b296b     1\n",
              "12  u1u  b318b     1\n",
              "13  u1u  b337b     0\n",
              "14  u1u  b367b     0"
            ]
          },
          "metadata": {},
          "execution_count": 38
        }
      ]
    },
    {
      "cell_type": "markdown",
      "metadata": {
        "id": "RWfaO0m5Dfwu"
      },
      "source": [
        "###saving\n",
        "* binarized reviews csv"
      ]
    },
    {
      "cell_type": "code",
      "metadata": {
        "id": "yxWHY_nADkEr"
      },
      "source": [
        "records.to_csv(os.path.join(specific_version_data , \"binarized_reviews.csv\"), index=False)"
      ],
      "execution_count": null,
      "outputs": []
    },
    {
      "cell_type": "markdown",
      "metadata": {
        "id": "5Phwal8o5wEQ"
      },
      "source": [
        "#Split\n",
        "\n",
        "divide the dataset between train, validation and test proportions"
      ]
    },
    {
      "cell_type": "code",
      "metadata": {
        "id": "wdbvOgIk63mp"
      },
      "source": [
        "records = pd.read_csv(os.path.join(specific_version_data , \"binarized_reviews.csv\"))\n",
        "#records"
      ],
      "execution_count": null,
      "outputs": []
    },
    {
      "cell_type": "markdown",
      "metadata": {
        "id": "MDhQHhkAJPH1"
      },
      "source": [
        "explanation\n",
        "* reserve 10000 users for test phase and 10000 for validation. the rest of users are only for training. \n",
        "\n",
        "* the VAE does a primary training run on this train and validation data\n",
        "\n",
        "* with the test users, take 80% of records/reviews and form a secondary training set. the VAE does a secondary training run on the 80% test-training records. it must then be tested on ability to fill in test-testing records\n"
      ]
    },
    {
      "cell_type": "code",
      "metadata": {
        "id": "L5VM6v1OszjR"
      },
      "source": [
        "def split_users(unique_u_file, num_vad_u=10000, num_test_u=10000):\n",
        "  with open(unique_u_file , 'r') as ufile:\n",
        "    unique_u = ufile.readlines()\n",
        "    unique_u = [u.strip() for u in unique_u]\n",
        "  #NB it is already shuffled by the time it went INTO the file unique_u. no need to shuffle again\n",
        "  test_u = unique_u[:num_test_u]\n",
        "  vad_u = unique_u[num_test_u:num_test_u + num_vad_u]\n",
        "  train_u = unique_u[num_test_u + num_vad_u:]\n",
        "\n",
        "  return train_u, vad_u, test_u"
      ],
      "execution_count": null,
      "outputs": []
    },
    {
      "cell_type": "code",
      "metadata": {
        "id": "7ZB_NjX22AXd"
      },
      "source": [
        "def split_df_on_users(original_DF, train_u, vad_u, test_u):\n",
        "  train_rec = original_DF.where(original_DF['uid'].isin(train_u)).dropna()\n",
        "\n",
        "  vad_rec =   original_DF.where(original_DF['uid'].isin(vad_u)  ).dropna()\n",
        "\n",
        "  test_rec =  original_DF.where(original_DF['uid'].isin(test_u) ).dropna()\n",
        "  \n",
        "  return train_rec, vad_rec, test_rec"
      ],
      "execution_count": null,
      "outputs": []
    },
    {
      "cell_type": "code",
      "metadata": {
        "id": "Yu0LnggzrqtJ"
      },
      "source": [
        "#done this long way to allow progess to be measured in case of cutoff/crash\n",
        "def split_test_DF(original_DF, wanted_test_proportion=0.2):\n",
        "\n",
        "  #sort the original DF by the id user\n",
        "  original_DF = original_DF.sort_values(['uid']).reset_index()\n",
        "\n",
        "  tempList = []\n",
        "  trainList = []\n",
        "  testList = []\n",
        "\n",
        "  prev_id_group = original_DF['uid'][0]\n",
        "  for i in range(len(original_DF['uid'])):\n",
        "\n",
        "    current_id_group = original_DF['uid'][i]\n",
        "    current_record = [ original_DF['uid'][i], original_DF['bid'][i], original_DF['rate'][i] ]\n",
        "\n",
        "    if current_id_group != prev_id_group: #have reached new group (user)\n",
        "      #if elible for split over all groups \n",
        "      len_group = len(tempList)\n",
        "      #if len_group >= min_user_interaction_threshold:\n",
        "      #split the group over train test subsets\n",
        "      random.shuffle(tempList)\n",
        "      ts = int(len_group * wanted_test_proportion)\n",
        "      testList.extend(tempList[:ts])\n",
        "      trainList.extend(tempList[ts:])\n",
        "      #else:\n",
        "      #trainList.extend(tempList)   \n",
        "\n",
        "      tempList = [] #clear templist to begin adding new group into it\n",
        "\n",
        "\n",
        "    tempList.append(current_record) #add records to temp list. when new group(user) reached, split templist and clear it to start in new user\n",
        "    prev_id_group = current_id_group\n",
        "\n",
        "    #if not i%10000:\n",
        "    #  print(i)\n",
        "\n",
        "  tr_DF = pd.DataFrame(trainList, columns = ['uid','bid','rate'])\n",
        "  ts_DF = pd.DataFrame(testList, columns = ['uid','bid','rate'])\n",
        "  \n",
        "  return tr_DF, ts_DF"
      ],
      "execution_count": null,
      "outputs": []
    },
    {
      "cell_type": "code",
      "metadata": {
        "id": "fnP6poYHBLXN"
      },
      "source": [
        "train_u, vad_u, test_u = split_users(os.path.join(specific_version_data,\"unique_u.txt\")) # lookups for user id for each Mutually exclusive set of users"
      ],
      "execution_count": null,
      "outputs": []
    },
    {
      "cell_type": "code",
      "metadata": {
        "colab": {
          "base_uri": "https://localhost:8080/"
        },
        "id": "bcI8M-Wb9z-1",
        "outputId": "99df838e-dac2-4639-d647-daa825e542b0"
      },
      "source": [
        "train_rec, vad_rec, test_rec = split_df_on_users(records, train_u, vad_u, test_u)\n",
        "print(len(records['uid']))\n",
        "print(len(train_rec['uid']))\n",
        "print(len(vad_rec['uid']))\n",
        "print(len(test_rec['uid']))\n",
        "\n",
        "\n",
        "print(len(records['uid'].unique()))\n",
        "print(len(train_rec['uid'].unique()))\n",
        "print(len(vad_rec['uid'].unique()))\n",
        "print(len(test_rec['uid'].unique()))\n",
        "\n",
        "\n",
        "train_rec.head()\n",
        "\n",
        "test_rec.shape"
      ],
      "execution_count": null,
      "outputs": [
        {
          "output_type": "stream",
          "name": "stdout",
          "text": [
            "19984024\n",
            "17098187\n",
            "1454660\n",
            "1431177\n",
            "138493\n",
            "118493\n",
            "10000\n",
            "10000\n"
          ]
        },
        {
          "output_type": "execute_result",
          "data": {
            "text/plain": [
              "(1431177, 3)"
            ]
          },
          "metadata": {},
          "execution_count": 45
        }
      ]
    },
    {
      "cell_type": "code",
      "metadata": {
        "id": "rQm6E0045q3N"
      },
      "source": [
        "test_training_rec, test_testing_rec = split_test_DF(test_rec) #some test records are fed to algorithm to introduce it to the previously unseen users\n",
        "# in bringing model up to speed on new test users, validate on same old validation data"
      ],
      "execution_count": null,
      "outputs": []
    },
    {
      "cell_type": "markdown",
      "metadata": {
        "id": "-B_z0Sx5BnNN"
      },
      "source": [
        "###saving\n",
        "* csv of train, test and validation records"
      ]
    },
    {
      "cell_type": "code",
      "metadata": {
        "id": "map5nJTkCi-P"
      },
      "source": [
        "#keep user record lists as they serve as an int to str index of user ids\n",
        "#test-train and test-test use the same index since the user indices are the same in both (u_test)\n",
        "with open(os.path.join(split,\"unique_u_train.txt\") , 'w') as ufile:\n",
        "  ufile.writelines('\\n'.join(train_u))\n",
        "\n",
        "with open(os.path.join(split,\"unique_u_vad.txt\") , 'w') as ufile:\n",
        "  ufile.writelines('\\n'.join(vad_u))\n",
        "\n",
        "with open(os.path.join(split,\"unique_u_test.txt\") , 'w') as ufile: \n",
        "  ufile.writelines('\\n'.join(test_u))\n",
        "\n",
        "\n",
        "test_rec.to_csv(os.path.join(split,\"test_rec.csv\") , index=False)\n",
        "vad_rec.to_csv(os.path.join(split,\"vad_rec.csv\") , index=False)\n",
        "train_rec.to_csv(os.path.join(split,\"train_rec.csv\") , index=False)\n",
        "\n",
        "test_training_rec.to_csv(os.path.join(split,\"test_training_rec.csv\") , index=False)\n",
        "test_testing_rec.to_csv(os.path.join(split,\"test_testing_rec.csv\") , index=False)"
      ],
      "execution_count": null,
      "outputs": []
    },
    {
      "cell_type": "markdown",
      "metadata": {
        "id": "_FLQz2WT71cN"
      },
      "source": [
        "#To Matrix\n",
        "for the sake of the VAE, convert the records list format into a user-business matrix format."
      ]
    },
    {
      "cell_type": "code",
      "metadata": {
        "id": "OSMPCu0IFNdD"
      },
      "source": [
        "def records_to_matrix(recs_DF, u_mapping, b_mapping, implicit=True):\n",
        "  #form numeric id row and col lists\n",
        "  num_u = len(u_mapping.keys())\n",
        "  num_b = len(b_mapping.keys())\n",
        "  '''\n",
        "  for i in recs_DF['uid']:\n",
        "    print(\"df\", type(i))\n",
        "    break\n",
        "  for i in u_mapping.keys():\n",
        "    print(\"txt/map\", type(i))\n",
        "    break\n",
        "  '''\n",
        "  rows = [ u_mapping[uid] for uid in recs_DF['uid'] ] \n",
        "  cols = [ b_mapping[bid] for bid in recs_DF['bid'] ] \n",
        "\n",
        "\n",
        "  if implicit:\n",
        "    values = np.ones_like(recs_DF['rate'])\n",
        "  else:\n",
        "    values = recs_DF['rate']\n",
        "  sparse_mat = sparse.csr_matrix(  (values , (rows, cols)) , shape=( num_u,num_b) )\n",
        "\n",
        "  return sparse_mat"
      ],
      "execution_count": null,
      "outputs": []
    },
    {
      "cell_type": "code",
      "metadata": {
        "id": "IDHCP6Ra4NIG"
      },
      "source": [
        "all_rec = pd.read_csv(os.path.join(specific_version_data,\"binarized_reviews.csv\"))\n",
        "vad_rec = pd.read_csv(os.path.join(split,\"vad_rec.csv\"))\n",
        "train_rec = pd.read_csv(os.path.join(split,\"train_rec.csv\"))\n",
        "test_rec = pd.read_csv(os.path.join(split,\"test_rec.csv\"))\n",
        "test_training_rec = pd.read_csv(os.path.join(split,\"test_training_rec.csv\"))\n",
        "test_testing_rec = pd.read_csv(os.path.join(split,\"test_testing_rec.csv\"))\n"
      ],
      "execution_count": null,
      "outputs": []
    },
    {
      "cell_type": "code",
      "metadata": {
        "colab": {
          "base_uri": "https://localhost:8080/",
          "height": 204
        },
        "id": "KeikRc4wd3Xc",
        "outputId": "67002275-1934-4894-d718-4908805b6e32"
      },
      "source": [
        "all_rec.head()"
      ],
      "execution_count": null,
      "outputs": [
        {
          "output_type": "execute_result",
          "data": {
            "text/html": [
              "<div>\n",
              "<style scoped>\n",
              "    .dataframe tbody tr th:only-of-type {\n",
              "        vertical-align: middle;\n",
              "    }\n",
              "\n",
              "    .dataframe tbody tr th {\n",
              "        vertical-align: top;\n",
              "    }\n",
              "\n",
              "    .dataframe thead th {\n",
              "        text-align: right;\n",
              "    }\n",
              "</style>\n",
              "<table border=\"1\" class=\"dataframe\">\n",
              "  <thead>\n",
              "    <tr style=\"text-align: right;\">\n",
              "      <th></th>\n",
              "      <th>uid</th>\n",
              "      <th>bid</th>\n",
              "      <th>rate</th>\n",
              "    </tr>\n",
              "  </thead>\n",
              "  <tbody>\n",
              "    <tr>\n",
              "      <th>0</th>\n",
              "      <td>u1u</td>\n",
              "      <td>b2b</td>\n",
              "      <td>0</td>\n",
              "    </tr>\n",
              "    <tr>\n",
              "      <th>1</th>\n",
              "      <td>u1u</td>\n",
              "      <td>b29b</td>\n",
              "      <td>0</td>\n",
              "    </tr>\n",
              "    <tr>\n",
              "      <th>2</th>\n",
              "      <td>u1u</td>\n",
              "      <td>b32b</td>\n",
              "      <td>0</td>\n",
              "    </tr>\n",
              "    <tr>\n",
              "      <th>3</th>\n",
              "      <td>u1u</td>\n",
              "      <td>b47b</td>\n",
              "      <td>0</td>\n",
              "    </tr>\n",
              "    <tr>\n",
              "      <th>4</th>\n",
              "      <td>u1u</td>\n",
              "      <td>b50b</td>\n",
              "      <td>0</td>\n",
              "    </tr>\n",
              "  </tbody>\n",
              "</table>\n",
              "</div>"
            ],
            "text/plain": [
              "   uid   bid  rate\n",
              "0  u1u   b2b     0\n",
              "1  u1u  b29b     0\n",
              "2  u1u  b32b     0\n",
              "3  u1u  b47b     0\n",
              "4  u1u  b50b     0"
            ]
          },
          "metadata": {},
          "execution_count": 51
        }
      ]
    },
    {
      "cell_type": "code",
      "metadata": {
        "id": "O-6Pd1WBn3-_"
      },
      "source": [
        "with open(os.path.join(specific_version_data,\"unique_b.txt\") , 'r', encoding='utf-8') as bfile:\n",
        "  unique_b = bfile.readlines()\n",
        "  unique_b = [b.strip() for b in unique_b]\n",
        "  b_to_idx = {bid:i for (i, bid) in enumerate(unique_b)}\n",
        "\n",
        "with open(os.path.join(specific_version_data,\"unique_u.txt\") , 'r') as ufile:\n",
        "  u_to_idx = {uid:i for (i, uid) in enumerate([u.strip() for u in ufile.readlines()])}\n",
        "\n",
        "with open(os.path.join(split,\"unique_u_train.txt\") , 'r') as ufile:\n",
        "  u_train_to_idx = {uid:i for (i, uid) in enumerate([u.strip() for u in ufile.readlines()])}\n",
        "\n",
        "with open(os.path.join(split,\"unique_u_vad.txt\") , 'r') as ufile:\n",
        "  u_vad_to_idx = {uid:i for (i, uid) in enumerate([u.strip()for u in ufile.readlines()])}\n",
        "\n",
        "with open(os.path.join(split,\"unique_u_test.txt\") , 'r') as ufile: \n",
        "  u_test_to_idx = {uid:i for (i, uid) in enumerate([u.strip() for u in ufile.readlines()])}\n"
      ],
      "execution_count": null,
      "outputs": []
    },
    {
      "cell_type": "markdown",
      "metadata": {
        "id": "pfjNGWHBEC3s"
      },
      "source": [
        "### Explicit Version:"
      ]
    },
    {
      "cell_type": "code",
      "metadata": {
        "id": "7K4N_obiLMCU"
      },
      "source": [
        "ex_all = records_to_matrix(all_rec,u_to_idx , b_to_idx ,implicit=False)\n",
        "ex_train = records_to_matrix(train_rec, u_train_to_idx , b_to_idx ,implicit=False)\n",
        "ex_vad = records_to_matrix(vad_rec, u_vad_to_idx , b_to_idx ,implicit=False)\n",
        "ex_test = records_to_matrix(test_rec, u_test_to_idx , b_to_idx ,implicit=False)\n",
        "\n",
        "ex_test_train = records_to_matrix(test_training_rec, u_test_to_idx , b_to_idx ,implicit=False)\n",
        "ex_test_test = records_to_matrix(test_testing_rec, u_test_to_idx , b_to_idx ,implicit=False)"
      ],
      "execution_count": null,
      "outputs": []
    },
    {
      "cell_type": "markdown",
      "metadata": {
        "id": "7Z0QGihCBunz"
      },
      "source": [
        "###Implicit Version"
      ]
    },
    {
      "cell_type": "code",
      "metadata": {
        "id": "_ja-WRfCQSBR"
      },
      "source": [
        "im_all = records_to_matrix(all_rec,u_to_idx , b_to_idx ,implicit=True)\n",
        "im_train = records_to_matrix(train_rec, u_train_to_idx , b_to_idx ,implicit=True)\n",
        "im_vad = records_to_matrix(vad_rec, u_vad_to_idx , b_to_idx ,implicit=True)\n",
        "im_test = records_to_matrix(test_rec, u_test_to_idx , b_to_idx ,implicit=True)\n",
        "\n",
        "im_test_train = records_to_matrix(test_training_rec, u_test_to_idx , b_to_idx ,implicit=True)\n",
        "im_test_test = records_to_matrix(test_testing_rec, u_test_to_idx , b_to_idx ,implicit=True)"
      ],
      "execution_count": null,
      "outputs": []
    },
    {
      "cell_type": "markdown",
      "metadata": {
        "id": "_ESNpDxqBzUg"
      },
      "source": [
        "###saving\n",
        "* U-B sparse matrix for train, test and validation (implicit)\n",
        "* U-B sparse matrix for train, test and validation (explicit)"
      ]
    },
    {
      "cell_type": "code",
      "metadata": {
        "id": "bheW5KirCFxC"
      },
      "source": [
        "pickle.dump(im_all, open(os.path.join(implicit,\"all_impl.pkl\"), \"wb\"))\n",
        "pickle.dump(im_train, open(os.path.join(implicit,\"train_impl.pkl\"), \"wb\"))\n",
        "pickle.dump(im_vad, open(os.path.join(implicit,\"vad_impl.pkl\"), \"wb\"))\n",
        "\n",
        "pickle.dump(im_test, open(os.path.join(implicit,\"test_impl.pkl\"), \"wb\"))\n",
        "pickle.dump(im_test_train, open(os.path.join(implicit,\"test_testing_impl.pkl\"), \"wb\"))\n",
        "pickle.dump(im_test_test, open(os.path.join(implicit,\"test_training_impl.pkl\"), \"wb\"))\n",
        "\n",
        "\n",
        "\n",
        "pickle.dump(ex_all, open(os.path.join(explicit,\"all_expl.pkl\"), \"wb\"))\n",
        "pickle.dump(ex_train, open(os.path.join(explicit,\"train_expl.pkl\"), \"wb\"))\n",
        "pickle.dump(ex_vad, open(os.path.join(explicit,\"vad_expl.pkl\"), \"wb\"))\n",
        "\n",
        "pickle.dump(ex_test, open(os.path.join(explicit,\"test_expl.pkl\"), \"wb\"))\n",
        "pickle.dump(ex_test_train, open(os.path.join(implicit,\"test_testing_impl.pkl\"), \"wb\"))\n",
        "pickle.dump(ex_test_test, open(os.path.join(implicit,\"test_training_impl.pkl\"), \"wb\"))"
      ],
      "execution_count": null,
      "outputs": []
    },
    {
      "cell_type": "code",
      "metadata": {
        "colab": {
          "base_uri": "https://localhost:8080/"
        },
        "id": "vdBDLHHTJEPc",
        "outputId": "8b82bac3-94fa-4a9f-f590-61137d45220b"
      },
      "source": [
        "im_vad.get_shape()"
      ],
      "execution_count": null,
      "outputs": [
        {
          "output_type": "execute_result",
          "data": {
            "text/plain": [
              "(10000, 127351)"
            ]
          },
          "metadata": {},
          "execution_count": 195
        }
      ]
    }
  ]
}